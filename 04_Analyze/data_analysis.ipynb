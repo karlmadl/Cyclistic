{
 "cells": [
  {
   "cell_type": "code",
   "execution_count": 1,
   "metadata": {},
   "outputs": [],
   "source": [
    "import matplotlib.pyplot as plt\n",
    "from matplotlib.lines import Line2D\n",
    "import seaborn as sns\n",
    "import pandas as pd\n",
    "import numpy as np\n",
    "\n",
    "%matplotlib inline"
   ]
  },
  {
   "cell_type": "code",
   "execution_count": 2,
   "metadata": {},
   "outputs": [
    {
     "name": "stderr",
     "output_type": "stream",
     "text": [
      "C:\\Users\\kimba\\AppData\\Roaming\\Python\\Python39\\site-packages\\IPython\\core\\interactiveshell.py:3169: DtypeWarning: Columns (6,8) have mixed types.Specify dtype option on import or set low_memory=False.\n",
      "  has_raised = await self.run_ast_nodes(code_ast.body, cell_name,\n"
     ]
    }
   ],
   "source": [
    "df = pd.read_csv(\"Clean_Cyclistic_Data.csv\", index_col=0)"
   ]
  },
  {
   "cell_type": "code",
   "execution_count": 3,
   "metadata": {},
   "outputs": [
    {
     "data": {
      "text/plain": [
       "((4492727, 17),\n",
       " ride_id                object\n",
       " rideable_type          object\n",
       " started_at             object\n",
       " ended_at               object\n",
       " start_station_name     object\n",
       " start_station_id       object\n",
       " end_station_name       object\n",
       " end_station_id         object\n",
       " start_lat             float64\n",
       " start_lng             float64\n",
       " end_lat               float64\n",
       " end_lng               float64\n",
       " member_casual          object\n",
       " ride_length           float64\n",
       " day_of_week             int64\n",
       " start_hour             object\n",
       " season                 object\n",
       " dtype: object)"
      ]
     },
     "execution_count": 3,
     "metadata": {},
     "output_type": "execute_result"
    }
   ],
   "source": [
    "df.shape, df.dtypes"
   ]
  },
  {
   "cell_type": "code",
   "execution_count": 4,
   "metadata": {},
   "outputs": [],
   "source": [
    "df[\"route\"] = df.start_station_name + \"^\" + df.end_station_name"
   ]
  },
  {
   "cell_type": "code",
   "execution_count": 5,
   "metadata": {},
   "outputs": [
    {
     "data": {
      "text/html": [
       "<div>\n",
       "<style scoped>\n",
       "    .dataframe tbody tr th:only-of-type {\n",
       "        vertical-align: middle;\n",
       "    }\n",
       "\n",
       "    .dataframe tbody tr th {\n",
       "        vertical-align: top;\n",
       "    }\n",
       "\n",
       "    .dataframe thead th {\n",
       "        text-align: right;\n",
       "    }\n",
       "</style>\n",
       "<table border=\"1\" class=\"dataframe\">\n",
       "  <thead>\n",
       "    <tr style=\"text-align: right;\">\n",
       "      <th></th>\n",
       "      <th>ride_id</th>\n",
       "      <th>rideable_type</th>\n",
       "      <th>started_at</th>\n",
       "      <th>ended_at</th>\n",
       "      <th>start_station_name</th>\n",
       "      <th>start_station_id</th>\n",
       "      <th>end_station_name</th>\n",
       "      <th>end_station_id</th>\n",
       "      <th>start_lat</th>\n",
       "      <th>start_lng</th>\n",
       "      <th>end_lat</th>\n",
       "      <th>end_lng</th>\n",
       "      <th>member_casual</th>\n",
       "      <th>ride_length</th>\n",
       "      <th>day_of_week</th>\n",
       "      <th>start_hour</th>\n",
       "      <th>season</th>\n",
       "      <th>route</th>\n",
       "    </tr>\n",
       "  </thead>\n",
       "  <tbody>\n",
       "    <tr>\n",
       "      <th>0</th>\n",
       "      <td>BD0A6FF6FFF9B921</td>\n",
       "      <td>electric_bike</td>\n",
       "      <td>2020-11-01 13:36:00</td>\n",
       "      <td>2020-11-01 13:45:40</td>\n",
       "      <td>Dearborn St &amp; Erie St</td>\n",
       "      <td>110.0</td>\n",
       "      <td>St. Clair St &amp; Erie St</td>\n",
       "      <td>211.0</td>\n",
       "      <td>41.894177</td>\n",
       "      <td>-87.629127</td>\n",
       "      <td>41.894434</td>\n",
       "      <td>-87.623379</td>\n",
       "      <td>casual</td>\n",
       "      <td>9.666667</td>\n",
       "      <td>6</td>\n",
       "      <td>13:00</td>\n",
       "      <td>autumn</td>\n",
       "      <td>Dearborn St &amp; Erie St^St. Clair St &amp; Erie St</td>\n",
       "    </tr>\n",
       "    <tr>\n",
       "      <th>1</th>\n",
       "      <td>96A7A7A4BDE4F82D</td>\n",
       "      <td>electric_bike</td>\n",
       "      <td>2020-11-01 10:03:26</td>\n",
       "      <td>2020-11-01 10:14:45</td>\n",
       "      <td>Franklin St &amp; Illinois St</td>\n",
       "      <td>672.0</td>\n",
       "      <td>Noble St &amp; Milwaukee Ave</td>\n",
       "      <td>29.0</td>\n",
       "      <td>41.890959</td>\n",
       "      <td>-87.635343</td>\n",
       "      <td>41.900675</td>\n",
       "      <td>-87.662480</td>\n",
       "      <td>casual</td>\n",
       "      <td>11.316667</td>\n",
       "      <td>6</td>\n",
       "      <td>10:00</td>\n",
       "      <td>autumn</td>\n",
       "      <td>Franklin St &amp; Illinois St^Noble St &amp; Milwaukee...</td>\n",
       "    </tr>\n",
       "    <tr>\n",
       "      <th>2</th>\n",
       "      <td>C61526D06582BDC5</td>\n",
       "      <td>electric_bike</td>\n",
       "      <td>2020-11-01 00:34:05</td>\n",
       "      <td>2020-11-01 01:03:06</td>\n",
       "      <td>Lake Shore Dr &amp; Monroe St</td>\n",
       "      <td>76.0</td>\n",
       "      <td>Federal St &amp; Polk St</td>\n",
       "      <td>41.0</td>\n",
       "      <td>41.880983</td>\n",
       "      <td>-87.616754</td>\n",
       "      <td>41.872054</td>\n",
       "      <td>-87.629550</td>\n",
       "      <td>casual</td>\n",
       "      <td>29.016667</td>\n",
       "      <td>6</td>\n",
       "      <td>00:00</td>\n",
       "      <td>autumn</td>\n",
       "      <td>Lake Shore Dr &amp; Monroe St^Federal St &amp; Polk St</td>\n",
       "    </tr>\n",
       "    <tr>\n",
       "      <th>3</th>\n",
       "      <td>E533E89C32080B9E</td>\n",
       "      <td>electric_bike</td>\n",
       "      <td>2020-11-01 00:45:16</td>\n",
       "      <td>2020-11-01 00:54:31</td>\n",
       "      <td>Leavitt St &amp; Chicago Ave</td>\n",
       "      <td>659.0</td>\n",
       "      <td>Stave St &amp; Armitage Ave</td>\n",
       "      <td>185.0</td>\n",
       "      <td>41.895499</td>\n",
       "      <td>-87.682013</td>\n",
       "      <td>41.917744</td>\n",
       "      <td>-87.691392</td>\n",
       "      <td>casual</td>\n",
       "      <td>9.250000</td>\n",
       "      <td>6</td>\n",
       "      <td>00:00</td>\n",
       "      <td>autumn</td>\n",
       "      <td>Leavitt St &amp; Chicago Ave^Stave St &amp; Armitage Ave</td>\n",
       "    </tr>\n",
       "    <tr>\n",
       "      <th>4</th>\n",
       "      <td>1C9F4EF18C168C60</td>\n",
       "      <td>electric_bike</td>\n",
       "      <td>2020-11-01 15:43:25</td>\n",
       "      <td>2020-11-01 16:16:52</td>\n",
       "      <td>Buckingham Fountain</td>\n",
       "      <td>2.0</td>\n",
       "      <td>Buckingham Fountain</td>\n",
       "      <td>2.0</td>\n",
       "      <td>41.876497</td>\n",
       "      <td>-87.620358</td>\n",
       "      <td>41.876448</td>\n",
       "      <td>-87.620338</td>\n",
       "      <td>casual</td>\n",
       "      <td>33.450000</td>\n",
       "      <td>6</td>\n",
       "      <td>15:00</td>\n",
       "      <td>autumn</td>\n",
       "      <td>Buckingham Fountain^Buckingham Fountain</td>\n",
       "    </tr>\n",
       "  </tbody>\n",
       "</table>\n",
       "</div>"
      ],
      "text/plain": [
       "            ride_id  rideable_type           started_at             ended_at  \\\n",
       "0  BD0A6FF6FFF9B921  electric_bike  2020-11-01 13:36:00  2020-11-01 13:45:40   \n",
       "1  96A7A7A4BDE4F82D  electric_bike  2020-11-01 10:03:26  2020-11-01 10:14:45   \n",
       "2  C61526D06582BDC5  electric_bike  2020-11-01 00:34:05  2020-11-01 01:03:06   \n",
       "3  E533E89C32080B9E  electric_bike  2020-11-01 00:45:16  2020-11-01 00:54:31   \n",
       "4  1C9F4EF18C168C60  electric_bike  2020-11-01 15:43:25  2020-11-01 16:16:52   \n",
       "\n",
       "          start_station_name start_station_id          end_station_name  \\\n",
       "0      Dearborn St & Erie St            110.0    St. Clair St & Erie St   \n",
       "1  Franklin St & Illinois St            672.0  Noble St & Milwaukee Ave   \n",
       "2  Lake Shore Dr & Monroe St             76.0      Federal St & Polk St   \n",
       "3   Leavitt St & Chicago Ave            659.0   Stave St & Armitage Ave   \n",
       "4        Buckingham Fountain              2.0       Buckingham Fountain   \n",
       "\n",
       "  end_station_id  start_lat  start_lng    end_lat    end_lng member_casual  \\\n",
       "0          211.0  41.894177 -87.629127  41.894434 -87.623379        casual   \n",
       "1           29.0  41.890959 -87.635343  41.900675 -87.662480        casual   \n",
       "2           41.0  41.880983 -87.616754  41.872054 -87.629550        casual   \n",
       "3          185.0  41.895499 -87.682013  41.917744 -87.691392        casual   \n",
       "4            2.0  41.876497 -87.620358  41.876448 -87.620338        casual   \n",
       "\n",
       "   ride_length  day_of_week start_hour  season  \\\n",
       "0     9.666667            6      13:00  autumn   \n",
       "1    11.316667            6      10:00  autumn   \n",
       "2    29.016667            6      00:00  autumn   \n",
       "3     9.250000            6      00:00  autumn   \n",
       "4    33.450000            6      15:00  autumn   \n",
       "\n",
       "                                               route  \n",
       "0       Dearborn St & Erie St^St. Clair St & Erie St  \n",
       "1  Franklin St & Illinois St^Noble St & Milwaukee...  \n",
       "2     Lake Shore Dr & Monroe St^Federal St & Polk St  \n",
       "3   Leavitt St & Chicago Ave^Stave St & Armitage Ave  \n",
       "4            Buckingham Fountain^Buckingham Fountain  "
      ]
     },
     "execution_count": 5,
     "metadata": {},
     "output_type": "execute_result"
    }
   ],
   "source": [
    "df.head()"
   ]
  },
  {
   "cell_type": "code",
   "execution_count": 6,
   "metadata": {},
   "outputs": [
    {
     "data": {
      "text/plain": [
       "member_casual  route                                              \n",
       "casual         Streeter Dr & Grand Ave^Streeter Dr & Grand Ave        11645\n",
       "               Millennium Park^Millennium Park                         6221\n",
       "               Michigan Ave & Oak St^Michigan Ave & Oak St             6003\n",
       "               Lake Shore Dr & Monroe St^Lake Shore Dr & Monroe St     5184\n",
       "               Buckingham Fountain^Buckingham Fountain                 3557\n",
       "                                                                      ...  \n",
       "member         Yates Blvd & 75th St^South Shore Dr & 71st St              1\n",
       "               Yates Blvd & 75th St^Stony Island Ave & 75th St            1\n",
       "               Yates Blvd & 93rd St^Clyde Ave & 87th St                   1\n",
       "               Yates Blvd & 93rd St^Stewart Ave & 83rd St                 1\n",
       "               Yates Blvd & 93rd St^Stony Island Ave & 64th St            1\n",
       "Name: route, Length: 246051, dtype: int64"
      ]
     },
     "execution_count": 6,
     "metadata": {},
     "output_type": "execute_result"
    }
   ],
   "source": [
    "df.groupby(\"member_casual\").route.value_counts()"
   ]
  },
  {
   "cell_type": "markdown",
   "metadata": {},
   "source": [
    "casual riders often start and end at same station (top 6 routes, 9 of top 10), this is rare for members (0 of top 10).  \n",
    "the stations the two groups most frequent seem to be very different.  "
   ]
  },
  {
   "cell_type": "code",
   "execution_count": 7,
   "metadata": {},
   "outputs": [
    {
     "data": {
      "text/plain": [
       "(route\n",
       " Streeter Dr & Grand Ave^Streeter Dr & Grand Ave          11645\n",
       " Millennium Park^Millennium Park                           6221\n",
       " Michigan Ave & Oak St^Michigan Ave & Oak St               6003\n",
       " Lake Shore Dr & Monroe St^Lake Shore Dr & Monroe St       5184\n",
       " Buckingham Fountain^Buckingham Fountain                   3557\n",
       " Theater on the Lake^Theater on the Lake                   3324\n",
       " Streeter Dr & Grand Ave^Millennium Park                   3181\n",
       " Montrose Harbor^Montrose Harbor                           3085\n",
       " Indiana Ave & Roosevelt Rd^Indiana Ave & Roosevelt Rd     3005\n",
       " Michigan Ave & 8th St^Michigan Ave & 8th St               2917\n",
       " Name: route, dtype: int64,\n",
       " route\n",
       " Ellis Ave & 60th St^Ellis Ave & 55th St         3498\n",
       " Ellis Ave & 55th St^Ellis Ave & 60th St         3098\n",
       " Ellis Ave & 60th St^University Ave & 57th St    2057\n",
       " University Ave & 57th St^Ellis Ave & 60th St    2014\n",
       " State St & 33rd St^Calumet Ave & 33rd St        1715\n",
       " Loomis St & Lexington St^Morgan St & Polk St    1639\n",
       " Calumet Ave & 33rd St^State St & 33rd St        1607\n",
       " Morgan St & Polk St^Loomis St & Lexington St    1466\n",
       " MLK Jr Dr & 29th St^State St & 33rd St          1393\n",
       " State St & 33rd St^MLK Jr Dr & 29th St          1371\n",
       " Name: route, dtype: int64)"
      ]
     },
     "execution_count": 7,
     "metadata": {},
     "output_type": "execute_result"
    }
   ],
   "source": [
    "a = df.groupby(\"member_casual\").route.value_counts()\n",
    "a.loc[\"casual\"][:10], a.loc[\"member\"][:10]"
   ]
  },
  {
   "cell_type": "markdown",
   "metadata": {},
   "source": [
    "docked bikes are used disproportionately more by casual riders. greatly outnumber members despite there being only 80% as many casual riders as members total."
   ]
  },
  {
   "cell_type": "code",
   "execution_count": 8,
   "metadata": {},
   "outputs": [
    {
     "data": {
      "image/png": "[encoded data removed]",
      "text/plain": [
       "<Figure size 640x480 with 1 Axes>"
      ]
     },
     "metadata": {},
     "output_type": "display_data"
    }
   ],
   "source": [
    "ct = pd.crosstab(df.member_casual, df.rideable_type)\n",
    "labels = ct.columns\n",
    "x = np.arange(len(labels))\n",
    "width = 0.35\n",
    "\n",
    "\n",
    "plt.style.use(\"default\")\n",
    "fig, ax = plt.subplots(constrained_layout=True)\n",
    "_ = ax.bar(x - width/2 - 0.0125, ct.iloc[0, :], width, label=ct.iloc[0, :].name.capitalize(),\n",
    "           alpha=0.75)\n",
    "_ = ax.bar(x + width/2 + 0.0125, ct.iloc[1, :], width, label=ct.iloc[1, :].name.capitalize(),\n",
    "           alpha=0.75)\n",
    "\n",
    "_ = ax.set(xticks=[0, 1, 2],\n",
    "           xticklabels=list(map(lambda x: \" \".join(list(map(lambda y: y.capitalize(), x.split(\"_\")))), ct.columns)))\n",
    "_ = ax.tick_params(bottom=False)\n",
    "_ = ax.ticklabel_format(style=\"plain\", axis=\"y\")\n",
    "\n",
    "_ = ax.set_xlabel(\"Rideable Type\", fontsize=15)\n",
    "_ = ax.set_ylabel(\"Frequency\", fontsize=15)\n",
    "_ = ax.set_title(\"Frequency of Rideable Type by Membership Status\", fontsize=16)\n",
    "\n",
    "_ = ax.legend()"
   ]
  },
  {
   "cell_type": "code",
   "execution_count": 9,
   "metadata": {},
   "outputs": [
    {
     "name": "stdout",
     "output_type": "stream",
     "text": [
      "casual: \n",
      "rideable_type\n",
      "classic_bike     1221422\n",
      "docked_bike       350489\n",
      "electric_bike     458999\n",
      "Name: casual, dtype: int64\n",
      "\n",
      "member: \n",
      "rideable_type\n",
      "classic_bike     1837067\n",
      "docked_bike       113386\n",
      "electric_bike     511364\n",
      "Name: member, dtype: int64\n"
     ]
    }
   ],
   "source": [
    "ct = pd.crosstab(df.member_casual, df.rideable_type)\n",
    "print(f\"{ct.iloc[0, :].name}: \\n{ct.iloc[0, :]}\\n\\n{ct.iloc[1, :].name}: \\n{ct.iloc[1, :]}\")"
   ]
  },
  {
   "cell_type": "code",
   "execution_count": 10,
   "metadata": {},
   "outputs": [
    {
     "data": {
      "text/plain": [
       "['Classic Bike', 'Docked Bike', 'Electric Bike']"
      ]
     },
     "execution_count": 10,
     "metadata": {},
     "output_type": "execute_result"
    }
   ],
   "source": [
    "list(map(lambda x: \" \".join(list(map(lambda y: y.capitalize(), x.split(\"_\")))), ct.columns))"
   ]
  },
  {
   "cell_type": "markdown",
   "metadata": {},
   "source": [
    "lets check rideable types by season"
   ]
  },
  {
   "cell_type": "code",
   "execution_count": 11,
   "metadata": {},
   "outputs": [],
   "source": [
    "ct_mem = pd.crosstab(df[df.member_casual == \"member\"].rideable_type, df[df.member_casual == \"member\"].season)\n",
    "ct_cas = pd.crosstab(df[df.member_casual == \"casual\"].rideable_type, df[df.member_casual == \"casual\"].season)"
   ]
  },
  {
   "cell_type": "code",
   "execution_count": 12,
   "metadata": {},
   "outputs": [
    {
     "data": {
      "text/html": [
       "<div>\n",
       "<style scoped>\n",
       "    .dataframe tbody tr th:only-of-type {\n",
       "        vertical-align: middle;\n",
       "    }\n",
       "\n",
       "    .dataframe tbody tr th {\n",
       "        vertical-align: top;\n",
       "    }\n",
       "\n",
       "    .dataframe thead th {\n",
       "        text-align: right;\n",
       "    }\n",
       "</style>\n",
       "<table border=\"1\" class=\"dataframe\">\n",
       "  <thead>\n",
       "    <tr style=\"text-align: right;\">\n",
       "      <th>season</th>\n",
       "      <th>autumn</th>\n",
       "      <th>spring</th>\n",
       "      <th>summer</th>\n",
       "      <th>winter</th>\n",
       "    </tr>\n",
       "    <tr>\n",
       "      <th>rideable_type</th>\n",
       "      <th></th>\n",
       "      <th></th>\n",
       "      <th></th>\n",
       "      <th></th>\n",
       "    </tr>\n",
       "  </thead>\n",
       "  <tbody>\n",
       "    <tr>\n",
       "      <th>classic_bike</th>\n",
       "      <td>322706</td>\n",
       "      <td>545787</td>\n",
       "      <td>805891</td>\n",
       "      <td>162683</td>\n",
       "    </tr>\n",
       "    <tr>\n",
       "      <th>docked_bike</th>\n",
       "      <td>113385</td>\n",
       "      <td>0</td>\n",
       "      <td>0</td>\n",
       "      <td>1</td>\n",
       "    </tr>\n",
       "    <tr>\n",
       "      <th>electric_bike</th>\n",
       "      <td>158886</td>\n",
       "      <td>134250</td>\n",
       "      <td>178945</td>\n",
       "      <td>39283</td>\n",
       "    </tr>\n",
       "  </tbody>\n",
       "</table>\n",
       "</div>"
      ],
      "text/plain": [
       "season         autumn  spring  summer  winter\n",
       "rideable_type                                \n",
       "classic_bike   322706  545787  805891  162683\n",
       "docked_bike    113385       0       0       1\n",
       "electric_bike  158886  134250  178945   39283"
      ]
     },
     "execution_count": 12,
     "metadata": {},
     "output_type": "execute_result"
    }
   ],
   "source": [
    "ct_mem"
   ]
  },
  {
   "cell_type": "code",
   "execution_count": 13,
   "metadata": {},
   "outputs": [
    {
     "data": {
      "image/png": "[encoded data removed]",
      "text/plain": [
       "<Figure size 640x480 with 1 Axes>"
      ]
     },
     "metadata": {},
     "output_type": "display_data"
    }
   ],
   "source": [
    "width = 0.25\n",
    "gap = 0.0125\n",
    "x = np.arange(len(ct_mem.columns))\n",
    "\n",
    "fig, ax = plt.subplots()\n",
    "\n",
    "# darker shade for members, colored by rideable type\n",
    "# weird labels are for lining the rendered legend text up nicely\n",
    "_ = ax.bar(x - (width + gap), ct_mem.iloc[0, :], width=width,\n",
    "           alpha=0.5, color=\"blue\",\n",
    "           label=\"Classic: Member\")\n",
    "_ = ax.bar(x - (width + gap), ct_cas.iloc[0, :], width=width,\n",
    "           color=\"blue\", alpha=0.2,\n",
    "           label=\"             Casual\",\n",
    "           bottom=ct_mem.iloc[0, :])\n",
    "\n",
    "_ = ax.bar(x, ct_mem.iloc[1, :], width=width,\n",
    "           color=\"red\", alpha=0.5,\n",
    "           label=\"Docked: Member\")\n",
    "_ = ax.bar(x, ct_cas.iloc[1, :], width=width,\n",
    "           color=\"red\", alpha=0.2,\n",
    "           label=\"              Casual\",\n",
    "           bottom=ct_mem.iloc[1, :])\n",
    "\n",
    "_ = ax.bar(x + (width + gap), ct_mem.iloc[2, :], width=width,\n",
    "           color=\"orange\", alpha=0.5,\n",
    "           label=\"Electric: Member\")\n",
    "_ = ax.bar(x + (width + gap), ct_cas.iloc[2, :], width=width,\n",
    "           color=\"orange\", alpha=0.2,\n",
    "           label=\"              Casual\",\n",
    "           bottom=ct_mem.iloc[2, :])\n",
    "\n",
    "# placing ticks, setting tick labels to be seasons, removing tick marks\n",
    "_ = ax.set(xticks=[0, 1, 2, 3],\n",
    "           xticklabels=[\"Autumn\", \"Spring\", \"Summer\", \"Winter\"])\n",
    "_ = ax.tick_params(bottom=False)\n",
    "_ = ax.ticklabel_format(style=\"plain\", axis=\"y\")\n",
    "\n",
    "# titling axes\n",
    "_ = ax.set_xlabel(\"Season\", fontsize=15)\n",
    "_ = ax.set_ylabel(\"Frequency\", fontsize=15)\n",
    "_ = ax.set_title(\"Frequency of Rideable Type by Season\", fontsize=16)\n",
    "\n",
    "_ = ax.legend()"
   ]
  }
 ],
 "metadata": {
  "interpreter": {
   "hash": "481fbf580910604266a6f69ab2a40cb7227f9edac014d0d3ebcb939174d08ed7"
  },
  "kernelspec": {
   "display_name": "Python 3.9.0 64-bit",
   "language": "python",
   "name": "python3"
  },
  "language_info": {
   "codemirror_mode": {
    "name": "ipython",
    "version": 3
   },
   "file_extension": ".py",
   "mimetype": "text/x-python",
   "name": "python",
   "nbconvert_exporter": "python",
   "pygments_lexer": "ipython3",
   "version": "3.9.0"
  },
  "orig_nbformat": 4
 },
 "nbformat": 4,
 "nbformat_minor": 2
}
