{
 "cells": [
  {
   "cell_type": "code",
   "execution_count": 1,
   "metadata": {},
   "outputs": [],
   "source": [
    "import os\n",
    "import numpy as np\n",
    "import pandas as pd\n",
    "from scipy import stats\n",
    "from datetime import date, datetime, timedelta\n",
    "import matplotlib\n",
    "import matplotlib.pyplot as plt\n",
    "%matplotlib inline"
   ]
  },
  {
   "cell_type": "code",
   "execution_count": 2,
   "metadata": {},
   "outputs": [],
   "source": [
    "directory = os.path.abspath(\"\").split(\"\\\\\")[:-1]\n",
    "csv_path = \"/\".join(directory + [\"03_Process\", \"Clean_Cyclistic_Data.csv\"])\n",
    "\n",
    "df = pd.read_csv(csv_path, index_col=0)"
   ]
  },
  {
   "cell_type": "code",
   "execution_count": 3,
   "metadata": {},
   "outputs": [
    {
     "data": {
      "text/html": [
       "<div>\n",
       "<style scoped>\n",
       "    .dataframe tbody tr th:only-of-type {\n",
       "        vertical-align: middle;\n",
       "    }\n",
       "\n",
       "    .dataframe tbody tr th {\n",
       "        vertical-align: top;\n",
       "    }\n",
       "\n",
       "    .dataframe thead th {\n",
       "        text-align: right;\n",
       "    }\n",
       "</style>\n",
       "<table border=\"1\" class=\"dataframe\">\n",
       "  <thead>\n",
       "    <tr style=\"text-align: right;\">\n",
       "      <th></th>\n",
       "      <th>ride_id</th>\n",
       "      <th>rideable_type</th>\n",
       "      <th>started_at</th>\n",
       "      <th>ended_at</th>\n",
       "      <th>start_station_name</th>\n",
       "      <th>end_station_name</th>\n",
       "      <th>start_lat</th>\n",
       "      <th>start_lng</th>\n",
       "      <th>end_lat</th>\n",
       "      <th>end_lng</th>\n",
       "      <th>member_casual</th>\n",
       "      <th>ride_length</th>\n",
       "      <th>day_of_week</th>\n",
       "      <th>start_hour</th>\n",
       "      <th>season</th>\n",
       "      <th>month</th>\n",
       "    </tr>\n",
       "  </thead>\n",
       "  <tbody>\n",
       "    <tr>\n",
       "      <th>0</th>\n",
       "      <td>C809ED75D6160B2A</td>\n",
       "      <td>electric_bike</td>\n",
       "      <td>2021-05-30 11:58:15</td>\n",
       "      <td>2021-05-30 12:10:39</td>\n",
       "      <td>N Clark St &amp; W Elm St</td>\n",
       "      <td>Streeter Dr &amp; Grand Ave</td>\n",
       "      <td>41.900000</td>\n",
       "      <td>-87.630000</td>\n",
       "      <td>41.892278</td>\n",
       "      <td>-87.612043</td>\n",
       "      <td>casual</td>\n",
       "      <td>12.400000</td>\n",
       "      <td>6</td>\n",
       "      <td>11:00</td>\n",
       "      <td>spring</td>\n",
       "      <td>5</td>\n",
       "    </tr>\n",
       "    <tr>\n",
       "      <th>1</th>\n",
       "      <td>DD59FDCE0ACACAF3</td>\n",
       "      <td>electric_bike</td>\n",
       "      <td>2021-05-30 11:29:14</td>\n",
       "      <td>2021-05-30 12:14:09</td>\n",
       "      <td>DIVVY CASSETTE REPAIR MOBILE STATION</td>\n",
       "      <td>Museum of Science and Industry</td>\n",
       "      <td>41.880958</td>\n",
       "      <td>-87.616743</td>\n",
       "      <td>41.791728</td>\n",
       "      <td>-87.583945</td>\n",
       "      <td>casual</td>\n",
       "      <td>44.916667</td>\n",
       "      <td>6</td>\n",
       "      <td>11:00</td>\n",
       "      <td>spring</td>\n",
       "      <td>5</td>\n",
       "    </tr>\n",
       "    <tr>\n",
       "      <th>2</th>\n",
       "      <td>0AB83CB88C43EFC2</td>\n",
       "      <td>electric_bike</td>\n",
       "      <td>2021-05-30 14:24:01</td>\n",
       "      <td>2021-05-30 14:25:13</td>\n",
       "      <td>Milwaukee Ave &amp; Fullerton Ave</td>\n",
       "      <td>Milwaukee Ave &amp; Fullerton Ave</td>\n",
       "      <td>41.920000</td>\n",
       "      <td>-87.700000</td>\n",
       "      <td>41.920000</td>\n",
       "      <td>-87.700000</td>\n",
       "      <td>casual</td>\n",
       "      <td>1.200000</td>\n",
       "      <td>6</td>\n",
       "      <td>14:00</td>\n",
       "      <td>spring</td>\n",
       "      <td>5</td>\n",
       "    </tr>\n",
       "    <tr>\n",
       "      <th>3</th>\n",
       "      <td>7881AC6D39110C60</td>\n",
       "      <td>electric_bike</td>\n",
       "      <td>2021-05-30 14:25:51</td>\n",
       "      <td>2021-05-30 14:41:04</td>\n",
       "      <td>Milwaukee Ave &amp; Fullerton Ave</td>\n",
       "      <td>Rockwell St &amp; Fletcher St</td>\n",
       "      <td>41.920000</td>\n",
       "      <td>-87.700000</td>\n",
       "      <td>41.940000</td>\n",
       "      <td>-87.690000</td>\n",
       "      <td>casual</td>\n",
       "      <td>15.216667</td>\n",
       "      <td>6</td>\n",
       "      <td>14:00</td>\n",
       "      <td>spring</td>\n",
       "      <td>5</td>\n",
       "    </tr>\n",
       "    <tr>\n",
       "      <th>4</th>\n",
       "      <td>853FA701B4582BAF</td>\n",
       "      <td>electric_bike</td>\n",
       "      <td>2021-05-30 18:15:39</td>\n",
       "      <td>2021-05-30 18:22:32</td>\n",
       "      <td>Rockwell St &amp; Fletcher St</td>\n",
       "      <td>Elston Ave &amp; Henderson St</td>\n",
       "      <td>41.940000</td>\n",
       "      <td>-87.690000</td>\n",
       "      <td>41.940000</td>\n",
       "      <td>-87.700000</td>\n",
       "      <td>casual</td>\n",
       "      <td>6.883333</td>\n",
       "      <td>6</td>\n",
       "      <td>18:00</td>\n",
       "      <td>spring</td>\n",
       "      <td>5</td>\n",
       "    </tr>\n",
       "  </tbody>\n",
       "</table>\n",
       "</div>"
      ],
      "text/plain": [
       "            ride_id  rideable_type           started_at             ended_at  \\\n",
       "0  C809ED75D6160B2A  electric_bike  2021-05-30 11:58:15  2021-05-30 12:10:39   \n",
       "1  DD59FDCE0ACACAF3  electric_bike  2021-05-30 11:29:14  2021-05-30 12:14:09   \n",
       "2  0AB83CB88C43EFC2  electric_bike  2021-05-30 14:24:01  2021-05-30 14:25:13   \n",
       "3  7881AC6D39110C60  electric_bike  2021-05-30 14:25:51  2021-05-30 14:41:04   \n",
       "4  853FA701B4582BAF  electric_bike  2021-05-30 18:15:39  2021-05-30 18:22:32   \n",
       "\n",
       "                     start_station_name                end_station_name  \\\n",
       "0                 N Clark St & W Elm St         Streeter Dr & Grand Ave   \n",
       "1  DIVVY CASSETTE REPAIR MOBILE STATION  Museum of Science and Industry   \n",
       "2         Milwaukee Ave & Fullerton Ave   Milwaukee Ave & Fullerton Ave   \n",
       "3         Milwaukee Ave & Fullerton Ave       Rockwell St & Fletcher St   \n",
       "4             Rockwell St & Fletcher St       Elston Ave & Henderson St   \n",
       "\n",
       "   start_lat  start_lng    end_lat    end_lng member_casual  ride_length  \\\n",
       "0  41.900000 -87.630000  41.892278 -87.612043        casual    12.400000   \n",
       "1  41.880958 -87.616743  41.791728 -87.583945        casual    44.916667   \n",
       "2  41.920000 -87.700000  41.920000 -87.700000        casual     1.200000   \n",
       "3  41.920000 -87.700000  41.940000 -87.690000        casual    15.216667   \n",
       "4  41.940000 -87.690000  41.940000 -87.700000        casual     6.883333   \n",
       "\n",
       "   day_of_week start_hour  season  month  \n",
       "0            6      11:00  spring      5  \n",
       "1            6      11:00  spring      5  \n",
       "2            6      14:00  spring      5  \n",
       "3            6      14:00  spring      5  \n",
       "4            6      18:00  spring      5  "
      ]
     },
     "execution_count": 3,
     "metadata": {},
     "output_type": "execute_result"
    }
   ],
   "source": [
    "df.head()"
   ]
  },
  {
   "cell_type": "code",
   "execution_count": 4,
   "metadata": {},
   "outputs": [
    {
     "data": {
      "text/plain": [
       "member    3220186\n",
       "casual    2532599\n",
       "Name: member_casual, dtype: int64"
      ]
     },
     "execution_count": 4,
     "metadata": {},
     "output_type": "execute_result"
    }
   ],
   "source": [
    "# number of members vs number of riders\n",
    "\n",
    "df[\"member_casual\"].value_counts()"
   ]
  },
  {
   "cell_type": "markdown",
   "metadata": {},
   "source": [
    "## Ride Length (time)"
   ]
  },
  {
   "cell_type": "code",
   "execution_count": 5,
   "metadata": {},
   "outputs": [
    {
     "data": {
      "text/plain": [
       "member_casual\n",
       "casual    29.041099\n",
       "member    12.899898\n",
       "Name: ride_length, dtype: float64"
      ]
     },
     "execution_count": 5,
     "metadata": {},
     "output_type": "execute_result"
    }
   ],
   "source": [
    "# average ride_length of members vs casuals\n",
    "\n",
    "df.groupby(\"member_casual\")[\"ride_length\"].mean()"
   ]
  },
  {
   "cell_type": "code",
   "execution_count": 6,
   "metadata": {},
   "outputs": [
    {
     "data": {
      "text/html": [
       "<div>\n",
       "<style scoped>\n",
       "    .dataframe tbody tr th:only-of-type {\n",
       "        vertical-align: middle;\n",
       "    }\n",
       "\n",
       "    .dataframe tbody tr th {\n",
       "        vertical-align: top;\n",
       "    }\n",
       "\n",
       "    .dataframe thead th {\n",
       "        text-align: right;\n",
       "    }\n",
       "</style>\n",
       "<table border=\"1\" class=\"dataframe\">\n",
       "  <thead>\n",
       "    <tr style=\"text-align: right;\">\n",
       "      <th></th>\n",
       "      <th>count</th>\n",
       "      <th>mean</th>\n",
       "      <th>std</th>\n",
       "      <th>min</th>\n",
       "      <th>25%</th>\n",
       "      <th>50%</th>\n",
       "      <th>75%</th>\n",
       "      <th>max</th>\n",
       "    </tr>\n",
       "    <tr>\n",
       "      <th>member_casual</th>\n",
       "      <th></th>\n",
       "      <th></th>\n",
       "      <th></th>\n",
       "      <th></th>\n",
       "      <th></th>\n",
       "      <th></th>\n",
       "      <th></th>\n",
       "      <th></th>\n",
       "    </tr>\n",
       "  </thead>\n",
       "  <tbody>\n",
       "    <tr>\n",
       "      <th>casual</th>\n",
       "      <td>2532599.0</td>\n",
       "      <td>29.041099</td>\n",
       "      <td>233.284842</td>\n",
       "      <td>0.0</td>\n",
       "      <td>8.816667</td>\n",
       "      <td>15.550000</td>\n",
       "      <td>28.400000</td>\n",
       "      <td>55944.150000</td>\n",
       "    </tr>\n",
       "    <tr>\n",
       "      <th>member</th>\n",
       "      <td>3220186.0</td>\n",
       "      <td>12.899898</td>\n",
       "      <td>20.117306</td>\n",
       "      <td>0.0</td>\n",
       "      <td>5.333333</td>\n",
       "      <td>9.183333</td>\n",
       "      <td>15.916667</td>\n",
       "      <td>1499.933333</td>\n",
       "    </tr>\n",
       "  </tbody>\n",
       "</table>\n",
       "</div>"
      ],
      "text/plain": [
       "                   count       mean         std  min       25%        50%  \\\n",
       "member_casual                                                               \n",
       "casual         2532599.0  29.041099  233.284842  0.0  8.816667  15.550000   \n",
       "member         3220186.0  12.899898   20.117306  0.0  5.333333   9.183333   \n",
       "\n",
       "                     75%           max  \n",
       "member_casual                           \n",
       "casual         28.400000  55944.150000  \n",
       "member         15.916667   1499.933333  "
      ]
     },
     "execution_count": 6,
     "metadata": {},
     "output_type": "execute_result"
    }
   ],
   "source": [
    "# distribution of ride_length, member vs casual\n",
    "\n",
    "df.groupby(\"member_casual\").ride_length.describe()"
   ]
  },
  {
   "cell_type": "code",
   "execution_count": 7,
   "metadata": {},
   "outputs": [
    {
     "name": "stdout",
     "output_type": "stream",
     "text": [
      "members: 11.994285038731002\n",
      "casuals: 23.313622640916478\n"
     ]
    }
   ],
   "source": [
    "# 1% trimmmed average ride_length for members and casuals\n",
    "\n",
    "avg_trimmed_members = stats.trim_mean(df[df[\"member_casual\"] == \"member\"].ride_length, 0.01)\n",
    "avg_trimmed_casuals = stats.trim_mean(df[df[\"member_casual\"] == \"casual\"].ride_length, 0.01)\n",
    "\n",
    "print(f\"members: {avg_trimmed_members}\\ncasuals: {avg_trimmed_casuals}\")"
   ]
  },
  {
   "cell_type": "code",
   "execution_count": 8,
   "metadata": {},
   "outputs": [
    {
     "name": "stdout",
     "output_type": "stream",
     "text": [
      "winter: 12.562520737823027\n",
      "spring: 18.203198484203757\n",
      "summer: 18.30887208849457\n",
      "autumn: 13.600595573740813\n"
     ]
    }
   ],
   "source": [
    "# ride length by season\n",
    "\n",
    "avg_trimmed_winter = stats.trim_mean(df[df[\"season\"] == \"winter\"].ride_length, 0.01)\n",
    "avg_trimmed_spring = stats.trim_mean(df[df[\"season\"] == \"spring\"].ride_length, 0.01)\n",
    "avg_trimmed_summer = stats.trim_mean(df[df[\"season\"] == \"summer\"].ride_length, 0.01)\n",
    "avg_trimmed_autumn = stats.trim_mean(df[df[\"season\"] == \"autumn\"].ride_length, 0.01)\n",
    "\n",
    "print(f\"winter: {avg_trimmed_winter}\\nspring: {avg_trimmed_spring}\\nsummer: {avg_trimmed_summer}\\nautumn: {avg_trimmed_autumn}\")"
   ]
  },
  {
   "cell_type": "code",
   "execution_count": 9,
   "metadata": {},
   "outputs": [
    {
     "name": "stdout",
     "output_type": "stream",
     "text": [
      "casual: \n",
      "        winter: 19.69543090430399\n",
      "        spring: 26.029165186007905\n",
      "        summer: 23.96237471890435\n",
      "        autumn: 18.966652960943758\n",
      "\n",
      "member: \n",
      "        winter: 10.434350367627582\n",
      "        spring: 12.44557051177263\n",
      "        summer: 12.961584617959424\n",
      "        autumn: 10.905228603364469\n",
      "\n"
     ]
    }
   ],
   "source": [
    "# average ride length (time) by season by membership status\n",
    "\n",
    "for status in [\"casual\", \"member\"]:\n",
    "    avg_trimmed_winter = stats.trim_mean(df[(df[\"season\"] == \"winter\") & (df[\"member_casual\"] == status)].ride_length, 0.01)\n",
    "    avg_trimmed_spring = stats.trim_mean(df[(df[\"season\"] == \"spring\") & (df[\"member_casual\"] == status)].ride_length, 0.01)\n",
    "    avg_trimmed_summer = stats.trim_mean(df[(df[\"season\"] == \"summer\") & (df[\"member_casual\"] == status)].ride_length, 0.01)\n",
    "    avg_trimmed_autumn = stats.trim_mean(df[(df[\"season\"] == \"autumn\") & (df[\"member_casual\"] == status)].ride_length, 0.01)\n",
    "\n",
    "    print(f\"\"\"{status}: \n",
    "        winter: {avg_trimmed_winter}\n",
    "        spring: {avg_trimmed_spring}\n",
    "        summer: {avg_trimmed_summer}\n",
    "        autumn: {avg_trimmed_autumn}\\n\"\"\")"
   ]
  },
  {
   "cell_type": "code",
   "execution_count": 37,
   "metadata": {},
   "outputs": [
    {
     "data": {
      "image/png": "[encoded data removed]",
      "text/plain": [
       "<Figure size 576x396 with 1 Axes>"
      ]
     },
     "metadata": {},
     "output_type": "display_data"
    }
   ],
   "source": [
    "szn_avg_cas = [19.69543090430399, 26.029165186007905, 23.96237471890435, 18.966652960943758]\n",
    "szn_avg_mem = [10.434350367627582, 12.44557051177263, 12.961584617959424, 10.905228603364469]\n",
    "width = 0.35\n",
    "x = np.arange(len(szn_avg_cas))\n",
    "\n",
    "\n",
    "plt.style.use(\"seaborn\")\n",
    "fig, ax = plt.subplots()\n",
    "_ = ax.bar(\n",
    "    x - (width/2 + 0.0125), szn_avg_cas, \n",
    "    color=\"#40B0A6\", alpha=0.75, edgecolor=\"white\", hatch=\"/\", width=width,\n",
    "    label=\"Casual\")\n",
    "\n",
    "_ = ax.bar(\n",
    "    x + (width/2 + 0.0125), szn_avg_mem,\n",
    "    color=\"#E1BE6A\", alpha=0.75, width=width,\n",
    "    label=\"Member\")\n",
    "\n",
    "_ = ax.set(\n",
    "    xticks=x,\n",
    "    xticklabels=[\"Winter\", \"Spring\", \"Summer\", \"Autumn\"],\n",
    ")\n",
    "_ = ax.tick_params(axis=\"both\", which=\"major\", labelsize=12)\n",
    "_ = ax.set_title(\"Average Ride Time by Season and Membership Status\", fontsize=20)\n",
    "_ = ax.set_ylabel(\"Average Ride Length (minutes)\", fontsize=16)\n",
    "_ = ax.set_xlabel(\"Season\", fontsize=16)\n",
    "_ = ax.legend(prop={\"size\": 12})\n",
    "\n",
    "plt.savefig(\"avg_ridelength_by_season_membership.png\", dpi=600, format=\"png\")"
   ]
  },
  {
   "cell_type": "code",
   "execution_count": 65,
   "metadata": {},
   "outputs": [
    {
     "data": {
      "image/png": "[encoded data removed]",
      "text/plain": [
       "<Figure size 576x396 with 1 Axes>"
      ]
     },
     "metadata": {},
     "output_type": "display_data"
    }
   ],
   "source": [
    "monthly_avg_cas = []\n",
    "monthly_avg_mem = []\n",
    "months = [5, 6, 7, 8, 9, 10, 11, 12, 1, 2, 3, 4]   # data is from may 2021-april 2022\n",
    "\n",
    "for month in months:\n",
    "    monthly_avg_cas.append(stats.trim_mean(df[(df[\"month\"] == month) & (df[\"member_casual\"] == \"casual\")].ride_length, 0.01))\n",
    "    monthly_avg_mem.append(stats.trim_mean(df[(df[\"month\"] == month) & (df[\"member_casual\"] == \"member\")].ride_length, 0.01))\n",
    "\n",
    "x = np.arange(len(monthly_avg_mem))\n",
    "\n",
    "fig, ax = plt.subplots()\n",
    "_ = ax.plot(x, monthly_avg_cas, color=\"#40B0A6\", linestyle=\"--\", alpha=0.75, label=\"Casual\")\n",
    "_ = ax.plot(x, monthly_avg_mem, color=\"#E1BE6A\", alpha=0.75, label=\"Member\")\n",
    "\n",
    "_ = ax.set(\n",
    "    xticks=x,\n",
    "    xticklabels=[\"May\", \"Jun\", \"Jul\", \"Aug\", \"Sep\", \"Oct\", \"Nov\", \"Dec\", \"Jan\", \"Feb\", \"Mar\", \"Apr\"],\n",
    "    yticks=[0, 5, 10, 15, 20, 25, 30, 35],\n",
    "    yticklabels=[\"\", \"5\", \"10\", \"15\", \"20\", \"25\", \"30\", \"\"]\n",
    ")\n",
    "_ = ax.tick_params(axis=\"both\", which=\"major\", labelsize=12)\n",
    "_ = ax.set_xlabel(\"Month\", fontsize=16)\n",
    "_ = ax.set_ylabel(\"Average Ride Length (minutes)\", fontsize=16)\n",
    "_ = ax.set_title(\"Average Ride Length over Year by Membership Status\", fontsize=20)\n",
    "_ = ax.set_ylim(0)\n",
    "\n",
    "_ = ax.legend(prop={\"size\": 12})\n",
    "\n",
    "plt.savefig(\"avg_ridelength_overyear_by_membership.png\", dpi=600, format=\"png\")"
   ]
  }
 ],
 "metadata": {
  "interpreter": {
   "hash": "8d45edfa029243f1b8ef4e844982c6953fc65f9dbbb981b30f79653022d49b3e"
  },
  "kernelspec": {
   "display_name": "Python 3.9.0 64-bit",
   "language": "python",
   "name": "python3"
  },
  "language_info": {
   "codemirror_mode": {
    "name": "ipython",
    "version": 3
   },
   "file_extension": ".py",
   "mimetype": "text/x-python",
   "name": "python",
   "nbconvert_exporter": "python",
   "pygments_lexer": "ipython3",
   "version": "3.9.0"
  },
  "orig_nbformat": 4
 },
 "nbformat": 4,
 "nbformat_minor": 2
}
