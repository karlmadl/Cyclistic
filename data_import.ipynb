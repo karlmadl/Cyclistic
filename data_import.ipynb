{
 "cells": [
  {
   "cell_type": "code",
   "execution_count": null,
   "metadata": {},
   "outputs": [],
   "source": [
    "from datetime import datetime\n",
    "import matplotlib.pyplot as plt\n",
    "import seaborn as sns\n",
    "%matplotlib inline\n",
    "import pandas as pd\n",
    "import glob\n",
    "\n",
    "csv_list = []\n",
    "for csv in glob.glob(\"C:/Users/kimba/OneDrive/Desktop/Cyclistic Analysis/CSVs/*\"):\n",
    "    csv_list.append(pd.read_csv(csv, index_col=None, header=0))\n",
    "\n",
    "df = pd.concat(csv_list, axis=0, ignore_index=True)"
   ]
  },
  {
   "cell_type": "code",
   "execution_count": null,
   "metadata": {},
   "outputs": [],
   "source": [
    "df.head()"
   ]
  },
  {
   "cell_type": "code",
   "execution_count": null,
   "metadata": {},
   "outputs": [],
   "source": [
    "df.dtypes, df.shape"
   ]
  },
  {
   "cell_type": "code",
   "execution_count": null,
   "metadata": {},
   "outputs": [],
   "source": [
    "f = lambda x: datetime.strptime(x, '%Y-%m-%d %H:%M:%S')\n",
    "df['started_at'] = df['started_at'].apply(f)\n",
    "df['ended_at'] = df['ended_at'].apply(f)\n"
   ]
  },
  {
   "cell_type": "code",
   "execution_count": null,
   "metadata": {},
   "outputs": [],
   "source": [
    "df['ride_length'] = df['ended_at'] - df['started_at']\n",
    "df['ride_length'] = df['ride_length'].apply(lambda x: x.total_seconds() / 60)"
   ]
  },
  {
   "cell_type": "code",
   "execution_count": null,
   "metadata": {},
   "outputs": [],
   "source": [
    "df['ride_length'].groupby(df['member_casual']).mean()"
   ]
  },
  {
   "cell_type": "code",
   "execution_count": null,
   "metadata": {},
   "outputs": [],
   "source": [
    "ride_length_by_member = df.loc[:, ['ride_length', 'member_casual']]\n",
    "ride_length_by_member"
   ]
  },
  {
   "cell_type": "code",
   "execution_count": null,
   "metadata": {},
   "outputs": [],
   "source": [
    "sns.boxplot(x='member_casual', y='ride_length', data=ride_length_by_member)"
   ]
  },
  {
   "cell_type": "code",
   "execution_count": null,
   "metadata": {},
   "outputs": [],
   "source": [
    "ride_length_by_member.groupby('member_casual').describe()"
   ]
  },
  {
   "cell_type": "code",
   "execution_count": null,
   "metadata": {},
   "outputs": [],
   "source": [
    "rl_by_mem_clean = ride_length_by_member[ride_length_by_member['ride_length'] >= 0]\n",
    "\n",
    "sns.boxplot(x='member_casual', y='ride_length', data=rl_by_mem_clean)"
   ]
  },
  {
   "cell_type": "code",
   "execution_count": null,
   "metadata": {},
   "outputs": [],
   "source": [
    "rl_by_mem_clean.groupby('member_casual').describe()"
   ]
  },
  {
   "cell_type": "code",
   "execution_count": null,
   "metadata": {},
   "outputs": [],
   "source": [
    "df['day_of_week'] = df['started_at'].apply(lambda x: x.weekday())"
   ]
  },
  {
   "cell_type": "code",
   "execution_count": null,
   "metadata": {},
   "outputs": [],
   "source": [
    "day_of_week_by_member = pd.crosstab(df['day_of_week'], df['member_casual'])\n",
    "\n",
    "day_of_week_by_member_norm = pd.crosstab(df['day_of_week'], df['member_casual'], normalize='columns')\n",
    "day_of_week_by_member, day_of_week_by_member_norm"
   ]
  },
  {
   "cell_type": "code",
   "execution_count": null,
   "metadata": {},
   "outputs": [],
   "source": [
    "plt.plot(data=day_of_week_by_member_norm, )\n",
    "plt.xlabel(\"Day of Week\")\n",
    "plt.ylabel(\"Proportion of Total Riders\")"
   ]
  },
  {
   "cell_type": "code",
   "execution_count": null,
   "metadata": {},
   "outputs": [],
   "source": [
    "a, b = day_of_week_by_member.plot(legend=True), day_of_week_by_member_norm.plot(legend=True)\n",
    "b.set_xlabel(\"Day of Week\")\n",
    "b.set_ylabel(\"Proportion of Riders\")\n",
    "b.legend(title=\"Membership Status\")\n",
    "b.set_xticklabels([\"\", \"Mon\", \"Tues\", \"Wed\", \"Thur\", \"Fri\", \"Sat\", \"Sun\"])\n",
    "b"
   ]
  },
  {
   "cell_type": "code",
   "execution_count": null,
   "metadata": {},
   "outputs": [],
   "source": [
    "count = {}\n",
    "for day in range(7):\n",
    "    count[day] = len(df[df['day_of_week'] == day])\n",
    "\n",
    "count"
   ]
  },
  {
   "cell_type": "code",
   "execution_count": null,
   "metadata": {},
   "outputs": [],
   "source": [
    "member_casual_dbl_count, stations, lat_coords, lng_coords = [None]*(len(df)*2), [None]*(len(df)*2), [None]*(len(df)*2), [None]*(len(df)*2)\n",
    "member_casual_dbl_count[::2], stations[::2], lat_coords[::2], lng_coords[::2] = df['member_casual'], df['start_station_name'], df['start_lat'], df['start_lng']\n",
    "member_casual_dbl_count[1::2], stations[1::2], lat_coords[1::2], lng_coords[1::2] = df['member_casual'], df['end_station_name'], df['end_lat'], df['end_lng']\n",
    "station_interactions = pd.DataFrame(data={'member_casual': member_casual_dbl_count, 'station': stations, 'latitude': lat_coords, 'longitude': lng_coords})\n",
    "station_interactions.head()"
   ]
  },
  {
   "cell_type": "code",
   "execution_count": null,
   "metadata": {},
   "outputs": [],
   "source": [
    "unique_stations = df['start_station_name'].drop_duplicates(inplace=False)\n",
    "unique_stations = unique_stations.dropna()\n",
    "\n",
    "station_coords = {}\n",
    "for station in unique_stations:\n",
    "    station_coords[station] = [station_interactions[station_interactions['station'] == station].iloc[0, 2], station_interactions[station_interactions['station'] == station].iloc[0, 3]]\n",
    "\n",
    "len(station_coords)"
   ]
  },
  {
   "cell_type": "code",
   "execution_count": null,
   "metadata": {},
   "outputs": [],
   "source": [
    "station_coords"
   ]
  },
  {
   "cell_type": "code",
   "execution_count": null,
   "metadata": {},
   "outputs": [],
   "source": [
    "for station, coords in station_coords.items():\n",
    "    station_interactions.loc[station_interactions['station'] == station, 'latitude'] = coords[0]\n",
    "    station_interactions.loc[station_interactions['station'] == station, 'longitude'] = coords[1]"
   ]
  },
  {
   "cell_type": "code",
   "execution_count": null,
   "metadata": {},
   "outputs": [],
   "source": [
    "station_interactions[station_interactions['station'] == 'Franklin St & Illinois St']"
   ]
  },
  {
   "cell_type": "code",
   "execution_count": null,
   "metadata": {},
   "outputs": [],
   "source": [
    "# station_interactions.to_csv(\"cyclistic_station_interactions.csv\")"
   ]
  }
 ],
 "metadata": {
  "interpreter": {
   "hash": "481fbf580910604266a6f69ab2a40cb7227f9edac014d0d3ebcb939174d08ed7"
  },
  "kernelspec": {
   "display_name": "Python 3.9.0 64-bit",
   "language": "python",
   "name": "python3"
  },
  "language_info": {
   "codemirror_mode": {
    "name": "ipython",
    "version": 3
   },
   "file_extension": ".py",
   "mimetype": "text/x-python",
   "name": "python",
   "nbconvert_exporter": "python",
   "pygments_lexer": "ipython3",
   "version": "3.9.0"
  },
  "orig_nbformat": 4
 },
 "nbformat": 4,
 "nbformat_minor": 2
}
